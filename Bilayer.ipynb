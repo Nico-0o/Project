{
 "cells": [
  {
   "cell_type": "code",
   "execution_count": 1,
   "metadata": {},
   "outputs": [
    {
     "name": "stderr",
     "output_type": "stream",
     "text": [
      "D:\\Programme\\Anaconda\\lib\\site-packages\\kwant\\solvers\\default.py:18: RuntimeWarning: MUMPS is not available, SciPy built-in solver will be used as a fallback. Performance can be very poor in this case.\n",
      "  \"Performance can be very poor in this case.\", RuntimeWarning)\n"
     ]
    }
   ],
   "source": [
    "import math\n",
    "from math import pi, sqrt, tanh\n",
    "from cmath import exp\n",
    "import numpy as np\n",
    "import kwant\n",
    "from matplotlib import pyplot as plt"
   ]
  },
  {
   "cell_type": "code",
   "execution_count": 2,
   "metadata": {
    "collapsed": true
   },
   "outputs": [],
   "source": [
    "%matplotlib inline"
   ]
  },
  {
   "cell_type": "code",
   "execution_count": 3,
   "metadata": {
    "collapsed": true
   },
   "outputs": [],
   "source": [
    "def onsite_wrapper(delta_sign):\n",
    "    '''Gives the onsite term depending on the sign of the gate'''\n",
    "    def onsite(site, params):\n",
    "        print(delta_sign, params['delta'])\n",
    "        return params['onsite'] + delta_sign*params['delta']\n",
    "    return onsite\n",
    "\n",
    "def generic_hopping(name):\n",
    "    '''Wrapper for a constant generic hopping defined in the parameters'''\n",
    "    def hopping(site_i, site_j, params):\n",
    "        return params[name]\n",
    "    return hopping\n",
    "\n",
    "def zero(x):\n",
    "    '''Utility'''\n",
    "    return 0"
   ]
  },
  {
   "cell_type": "code",
   "execution_count": 4,
   "metadata": {
    "collapsed": true
   },
   "outputs": [],
   "source": [
    "def shape(start = None, end = (0,0,0)):\n",
    "    '''Defines a quadratic shape. If no start is given, generates the shape by point reflection around 0'''\n",
    "    Lx, Ly, Lz = end\n",
    "    \n",
    "    if start is None:\n",
    "        Sx, Sy, Sz = -np.array(end)\n",
    "    else:\n",
    "        Sx, Sy, Sz = start\n",
    "        \n",
    "    def rectangle(pos):\n",
    "        x,y,z = pos\n",
    "        return Sx <= x <= Lx and Sy <= y <= Ly and Sz <= z <= Lz\n",
    "    return rectangle "
   ]
  },
  {
   "cell_type": "code",
   "execution_count": 5,
   "metadata": {
    "collapsed": true
   },
   "outputs": [],
   "source": [
    "def generate_system(lattice, hoppings, hopping_conditions, onsite_wrapper, shape1, axis1 = (0,0,0), shape2 = None, axis2 = (0,0,0), interface_length = 0, symmetry = None):\n",
    "    '''Can generate either scattering region or lead depending on the symmetry parameter'''\n",
    "    if symmetry is None:\n",
    "        sys = kwant.Builder()\n",
    "    else:\n",
    "        sys = kwant.Builder(kwant.TranslationalSymmetry(symmetry))        \n",
    "    if shape2 is None:\n",
    "        sys[lattice.shape(shape1, axis1)] = onsite_wrapper(0)   \n",
    "    else:\n",
    "        sys[lattice.shape(shape1, axis1)] = onsite_wrapper(1)\n",
    "        sys[lattice.shape(shape2, axis2)] = onsite_wrapper(-1)\n",
    "        \n",
    "    for hopping, hopping_condition in zip(hoppings, hopping_conditions):\n",
    "        sys[[kwant.builder.HoppingKind(*h) for h in hopping_condition]] = hopping\n",
    "    return sys"
   ]
  },
  {
   "cell_type": "code",
   "execution_count": 6,
   "metadata": {
    "collapsed": true
   },
   "outputs": [],
   "source": [
    "def colors(a1, a2, b1, b2):\n",
    "    '''Defines site colors for a bilayer graphene system with 4 sites A1, A2, B1, B2'''\n",
    "    def family_colors(site):\n",
    "        if site.family == a1:\n",
    "            return 'b'\n",
    "        elif site.family == a2:\n",
    "            return 'k'\n",
    "        elif site.family == b1:\n",
    "            return 'y'\n",
    "        elif site.family == b2:\n",
    "            return 'g'\n",
    "        else:\n",
    "            raise ValueError('atom has to be on one of the given sites')\n",
    "    return family_colors"
   ]
  },
  {
   "cell_type": "code",
   "execution_count": 7,
   "metadata": {
    "collapsed": true
   },
   "outputs": [],
   "source": [
    "def generate_lattice(stacking):\n",
    "    '''Just generates a graphene bilayer lattice with some default geometry and user defined stacking'''\n",
    "    a_L=1\n",
    "    c_L=1.36178862*a_L\n",
    "    sin_30, cos_30 = (1 / 2, sqrt(3) / 2)\n",
    "    \n",
    "    if str.upper(stacking) == \"AB\":\n",
    "        vec_len = -a_L * 999/1000\n",
    "    elif str.upper(stacking) == \"BA\":\n",
    "        vec_len = a_L * 999/1000\n",
    "    else:\n",
    "        raise ValueError(\"Stacking can only be AB or BA\")\n",
    "        \n",
    "    graphene = kwant.lattice.general([(a_L, 0, 0), ( a_L*0.5, a_L*sqrt(3)*0.5, 0), (vec_len, 0, 2*c_L)], \n",
    "                                 [(0, 0, -c_L/2), (0, a_L / sqrt(3), -c_L/2), (vec_len, 0, c_L/2), (a_L*0.5 + vec_len, a_L * 0.5 /sqrt(3), c_L/2) ])\n",
    "    return graphene"
   ]
  },
  {
   "cell_type": "code",
   "execution_count": 8,
   "metadata": {
    "collapsed": true
   },
   "outputs": [],
   "source": [
    "def build_hoppings(graphene, stacking, Lx, Ly, Lz):\n",
    "    '''Uses the given hppings and lattice to generate the hoppings in the system builder'''\n",
    "    \n",
    "    a1, b1, a2, b2 = graphene.sublattices\n",
    "    hoppinga = generic_hopping('hoppingIntra')\n",
    "    hoppingb = generic_hopping('hoppingIntra')\n",
    "    hoppingabba = generic_hopping('hoppingInter')\n",
    "    \n",
    "    hopping_a = (((0, 0, 0), a1, b1), ((0, 1, 0), a1, b1), ((-1, 1, 0),a1, b1))\n",
    "    hopping_b = (((0, 0, 0), a2, b2), ((0, 1, 0), a2, b2), ((1, 0, 0), a2,b2))\n",
    "    \n",
    "    #Depening on the shift of the upper lattice, the site enumeration must also be shifted\n",
    "    if str.upper(stacking) == \"AB\":\n",
    "        hopping_abba = [((0, 0, 0), a1, b2),((1, 0, 0), a2, b1)]\n",
    "    elif str.upper(stacking) == \"BA\":\n",
    "        hopping_abba = [((1, 0, 0), a1, b2),((0, 0, 0), a2, b1)]\n",
    "    else:\n",
    "        raise ValueError(\"Stacking can only be AB or BA\")\n",
    "   \n",
    "    hoppings = [hoppinga, hoppingb, hoppingabba]\n",
    "    hopping_conditions = [hopping_a, hopping_b, hopping_abba]\n",
    "    \n",
    "    return hoppings, hopping_conditions"
   ]
  },
  {
   "cell_type": "code",
   "execution_count": 9,
   "metadata": {
    "collapsed": true
   },
   "outputs": [],
   "source": [
    "def plot_conductance(fsys, args, energies = np.linspace(-15, 15, 100)):\n",
    "    '''Calculates and plots the conductance for a finaluzed system and an energy range'''\n",
    "    data = []\n",
    "\n",
    "    for energy in energies:\n",
    "        smatrix = kwant.smatrix(fsys, energy, args = args)\n",
    "        data.append(smatrix.transmission(1, 0))\n",
    "    \n",
    "    plt.figure()\n",
    "    plt.xlabel(\"energy (t)\")\n",
    "    plt.ylabel(\"conductance (e^2/h)\")\n",
    "    plt.plot(energies, data)"
   ]
  },
  {
   "cell_type": "code",
   "execution_count": 10,
   "metadata": {
    "collapsed": true
   },
   "outputs": [],
   "source": [
    "def create_arguments(hopping_parameters = [3.16, 0.4], delta = 1):\n",
    "    '''Create the argument list in the format required'''\n",
    "    return ({'onsite':0, 'hoppingIntra':hopping_parameters[0], 'hoppingInter':hopping_parameters[1], 'delta':delta},)"
   ]
  },
  {
   "cell_type": "code",
   "execution_count": 20,
   "metadata": {
    "collapsed": true
   },
   "outputs": [],
   "source": [
    "def make_system(stacking, symmetry, dimensions, offset = (0,0,0), plot = False, leads = True):\n",
    "    '''Build the whole system with leads and scattering region'''\n",
    "    #BILAYER graphene\n",
    "    Lz = 2\n",
    "    Lx, Ly = dimensions\n",
    " \n",
    "    #generate lattice and hoppings\n",
    "    graphene = generate_lattice(stacking)\n",
    "    a1, b1, a2, b2 = graphene.sublattices\n",
    "    hoppings, hopping_conditions = build_hoppings(graphene, stacking, Lx, Ly, Lz)\n",
    "    \n",
    "    #Different onsite terms for upper and lower layer in case of gating. Apply hoppings and onsite terms\n",
    "    ll_shape = shape(end = (Lx, Ly, 0), start = (-Lx, -Ly, -1))\n",
    "    ul_shape = shape(end = (Lx, Ly, 1), start = (-Lx, -Ly, 0))\n",
    "    system = generate_system(graphene, hoppings, hopping_conditions, onsite_wrapper, shape1 = ll_shape, shape2 = ul_shape, axis1 = (0, 0, -1), axis2 = (0, 0, 0))\n",
    "    \n",
    "    if leads:\n",
    "        #Zigzag and armchair are just differentiated by the position of the leads\n",
    "        if str.lower(symmetry) == \"zigzag\":\n",
    "            left_lead = generate_system(graphene, hoppings, hopping_conditions, zero, shape1 = shape(end = (np.infty, Ly, Lz)), interface_length = Ly, symmetry = graphene.vec((-1,0,0)))\n",
    "            right_lead = generate_system(graphene, hoppings, hopping_conditions, zero, shape1 = shape(end = (np.infty, Ly, Lz)), interface_length = Ly, symmetry = graphene.vec((1,0,0)))\n",
    "        elif str.lower(symmetry) == \"armchair\":\n",
    "            left_lead = generate_system(graphene, hoppings, hopping_conditions, zero, shape1 = shape(end = (Lx, np.infty, Lz)), interface_length = Lx, symmetry = graphene.vec((1,-2,0)))\n",
    "            right_lead = generate_system(graphene, hoppings, hopping_conditions, zero, shape1 = shape(end = (Lx, np.infty, Lz)), interface_length = Lx, symmetry = graphene.vec((-1,2,0)))\n",
    "        else:\n",
    "            raise ValueError(\"Symmetry must be either zigzag or armchair\")\n",
    "    \n",
    "        #Attach the defined leads to the system\n",
    "        system.attach_lead(left_lead)\n",
    "        system.attach_lead(right_lead)    \n",
    "    \n",
    "    if plot:\n",
    "        kwant.plot(system, site_size=0.18, site_lw=0.01, hop_lw=0.05, site_color = colors(a1, a2, b1, b2), pos_transform = (lambda pos: [pos[0], pos[1], 0]))\n",
    "        kwant.plot(system, site_size=0.18, site_lw=0.01, hop_lw=0.05, site_color = colors(a1, a2, b1, b2))\n",
    "        kwant.plot(system, site_size=0.18, site_lw=0.01, hop_lw=0.05, site_color = colors(a1, a2, b1, b2))\n",
    "    return system.finalized()\n",
    "\n",
    "Lx = 20\n",
    "Ly = 20"
   ]
  },
  {
   "cell_type": "code",
   "execution_count": 12,
   "metadata": {
    "collapsed": true
   },
   "outputs": [],
   "source": [
    "from ipywidgets import interact, interactive, fixed, interact_manual\n",
    "import ipywidgets as widgets"
   ]
  },
  {
   "cell_type": "code",
   "execution_count": 21,
   "metadata": {},
   "outputs": [
    {
     "data": {
      "application/vnd.jupyter.widget-view+json": {
       "model_id": "c4d22e1cb922445db9f568ae53e6dc2b"
      }
     },
     "metadata": {},
     "output_type": "display_data"
    }
   ],
   "source": [
    "sys1 = make_system(\"AB\", \"armchair\", (Lx, Ly))\n",
    "def f(x):\n",
    "    arguments = create_arguments(hopping_parameters = [3.0, x],delta = 0)\n",
    "    kwant.plotter.bands(sys1.leads[0], args = arguments)\n",
    "    print(x)\n",
    "interact(f, x = 3.0);"
   ]
  },
  {
   "cell_type": "code",
   "execution_count": 17,
   "metadata": {},
   "outputs": [
    {
     "data": {
      "application/vnd.jupyter.widget-view+json": {
       "model_id": "2d9ddd6886cf46e5b019e9d570cfa56a"
      }
     },
     "metadata": {},
     "output_type": "display_data"
    }
   ],
   "source": [
    "sys1 = make_system(\"AB\", \"zigzag\", (Lx, Ly))\n",
    "interact(f, x = 3.0);"
   ]
  },
  {
   "cell_type": "code",
   "execution_count": null,
   "metadata": {
    "collapsed": true
   },
   "outputs": [],
   "source": []
  }
 ],
 "metadata": {
  "kernelspec": {
   "display_name": "Python 3",
   "language": "python",
   "name": "python3"
  },
  "language_info": {
   "codemirror_mode": {
    "name": "ipython",
    "version": 3
   },
   "file_extension": ".py",
   "mimetype": "text/x-python",
   "name": "python",
   "nbconvert_exporter": "python",
   "pygments_lexer": "ipython3",
   "version": "3.6.1"
  }
 },
 "nbformat": 4,
 "nbformat_minor": 2
}
